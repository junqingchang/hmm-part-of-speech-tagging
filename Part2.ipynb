{
 "cells": [
  {
   "cell_type": "code",
   "execution_count": 1,
   "metadata": {},
   "outputs": [],
   "source": [
    "import pandas as pd\n",
    "import re"
   ]
  },
  {
   "cell_type": "code",
   "execution_count": 8,
   "metadata": {},
   "outputs": [
    {
     "name": "stdout",
     "output_type": "stream",
     "text": [
      "          Word     Tag\n",
      "count   292886  292886\n",
      "unique   48936       7\n",
      "top          .       O\n",
      "freq      7625  242301\n"
     ]
    }
   ],
   "source": [
    "# For SG and CN Dataset\n",
    "filename = 'SG/train'\n",
    "# file= pd.read_csv(filename,sep='\\s', encoding=\"UTF-8\",error_bad_lines=False, names=[\"Word\", \"Tag\"], skip_blank_lines=True)\n",
    "fin = open(filename)\n",
    "# fout = open('train-out', 'w')  #this just for verification \n",
    "rawframe = []\n",
    "\n",
    "for line in fin:\n",
    "    line = line.strip()\n",
    "    if len(line) == 0: continue\n",
    "    cols = re.split('\\s+(?=\\S+$)',line) # Using the last whitespace as separator\n",
    "    # print(\"{!r} -> {!r}\".format(line, cols), file=fout )\n",
    "    rawframe.append(cols)\n",
    "\n",
    "# fout.close()\n",
    "\n",
    "file = pd.DataFrame(rawframe, columns=[\"Word\", \"Tag\"])\n",
    "print(file.describe())\n"
   ]
  },
  {
   "cell_type": "code",
   "execution_count": 3,
   "metadata": {},
   "outputs": [],
   "source": [
    "#Print all words\n",
    "#for sentence in file[file.columns[0]]:\n",
    "#    print(sentence)\n",
    "\n",
    "#print all tags\n",
    "#for sentence in file[file.columns[1]]:\n",
    "#    print(sentence)\n",
    "\n",
    "\n",
    "# Show tag counts\n",
    "# print(file['Tag'].value_counts())\n",
    "\n",
    "#O          242277  but actually is 243669\n",
    "#B-neutral       17991\n",
    "#I-neutral       16801\n",
    "#B-positive      6534\n",
    "#I-positive      4287\n",
    "#B-negative      3450\n",
    "#I-negative      1522\n",
    "\n",
    "#After regex update \n",
    "# O             242301\n",
    "# B-neutral      17991\n",
    "# I-neutral      16801\n",
    "# B-positive      6534\n",
    "# I-positive      4287\n",
    "# B-negative      3450\n",
    "# I-negative      1522"
   ]
  },
  {
   "cell_type": "code",
   "execution_count": 18,
   "metadata": {},
   "outputs": [],
   "source": [
    "#Data preprocessing\n",
    "\n",
    "o_dict = {}\n",
    "b_neu_dict = {}\n",
    "i_neu_dict = {}\n",
    "b_p_dict= {}\n",
    "i_p_dict = {}\n",
    "b_neg_dict = {}\n",
    "i_neg_dict = {}\n",
    "\n",
    "'''\n",
    "\n",
    "dict = {'Name': 'Zara', 'Age': 7, 'Class': 'First'}\n",
    "dict['Age'] = 8; # update existing entry\n",
    "dict['School'] = \"DPS School\"; # Add new entry\n",
    "'''\n",
    "\n",
    "\n",
    "for row in file.iterrows():\n",
    "    if row[1][\"Tag\"]==\"O\":\n",
    "        if row[1][\"Word\"] in o_dict:\n",
    "            o_dict[row[1][\"Word\"]] += 1\n",
    "        else:\n",
    "            o_dict[row[1][\"Word\"]] = 1\n",
    "    elif row[1][\"Tag\"]==\"B-neutral\":\n",
    "        if row[1][\"Word\"] in b_neu_dict:\n",
    "            b_neu_dict[row[1][\"Word\"]] += 1\n",
    "        else:\n",
    "            b_neu_dict[row[1][\"Word\"]] = 1\n",
    "    elif row[1][\"Tag\"]==\"I-neutral\":\n",
    "        if row[1][\"Word\"] in i_neu_dict :\n",
    "            i_neu_dict[row[1][\"Word\"]] += 1\n",
    "        else:\n",
    "            i_neu_dict[row[1][\"Word\"]] = 1\n",
    "    elif row[1][\"Tag\"]==\"B-positive\":\n",
    "        if row[1][\"Word\"] in b_p_dict:\n",
    "            b_p_dict[row[1][\"Word\"]] += 1\n",
    "        else:\n",
    "            b_p_dict[row[1][\"Word\"]] = 1\n",
    "    elif row[1][\"Tag\"]==\"I-positive\":\n",
    "        if row[1][\"Word\"] in i_p_dict:\n",
    "            i_p_dict[row[1][\"Word\"]] += 1\n",
    "        else:\n",
    "            i_p_dict[row[1][\"Word\"]] = 1\n",
    "    elif row[1][\"Tag\"]==\"B-negative\":\n",
    "        if row[1][\"Word\"] in b_neg_dict:\n",
    "            b_neg_dict[row[1][\"Word\"]] += 1\n",
    "        else:\n",
    "            b_neg_dict[row[1][\"Word\"]] = 1\n",
    "    else:\n",
    "        if row[1][\"Word\"] in i_neg_dict:\n",
    "            i_neg_dict[row[1][\"Word\"]] += 1\n",
    "        else:\n",
    "            i_neg_dict[row[1][\"Word\"]] = 1"
   ]
  },
  {
   "cell_type": "code",
   "execution_count": 19,
   "metadata": {},
   "outputs": [],
   "source": [
    "# Count all dictionary\n",
    "# print(len(o_dict))\n",
    "# print(len(b_neu_dict))\n",
    "# print(len(i_neu_dict))\n",
    "# print(len(b_p_dict))\n",
    "# print(len(i_p_dict))\n",
    "# print(len(b_neg_dict))\n",
    "# print(len(i_neg_dict))\n"
   ]
  },
  {
   "cell_type": "code",
   "execution_count": 20,
   "metadata": {},
   "outputs": [],
   "source": [
    "def trainemission(x,y):\n",
    "    if y==\"O\":\n",
    "        dictname=o_dict\n",
    "    elif y==\"B-positive\":\n",
    "        dictname=b_p_dict\n",
    "    elif y==\"I-positive\":\n",
    "        dictname=i_p_dict\n",
    "    elif y==\"I-neutral\":\n",
    "        dictname=i_neu_dict\n",
    "    elif y==\"B-neutral\":\n",
    "        dictname=b_neu_dict\n",
    "    elif y==\"I-negative\":\n",
    "        dictname=i_neg_dict\n",
    "    elif y==\"B-negative\":\n",
    "        dictname=b_neg_dict\n",
    "    else:\n",
    "        return None\n",
    "    \n",
    "    try:\n",
    "        total_words = 0\n",
    "        for key in dictname:\n",
    "            total_words += dictname[key]\n",
    "        output = dictname[x]/total_words\n",
    "        return output\n",
    "    except:\n",
    "        print(\"Input not found\")\n",
    "        return output"
   ]
  },
  {
   "cell_type": "code",
   "execution_count": 21,
   "metadata": {},
   "outputs": [],
   "source": [
    "k = 1\n",
    "def emission(x,y):\n",
    "    if y==\"O\":\n",
    "        dictname=o_dict\n",
    "    elif y==\"B-positive\":\n",
    "        dictname=b_p_dict\n",
    "    elif y==\"I-positive\":\n",
    "        dictname=i_p_dict\n",
    "    elif y==\"I-neutral\":\n",
    "        dictname=i_neu_dict\n",
    "    elif y==\"B-neutral\":\n",
    "        dictname=b_neu_dict\n",
    "    elif y==\"I-negative\":\n",
    "        dictname=i_neg_dict\n",
    "    elif y==\"B-negative\":\n",
    "        dictname=b_neg_dict\n",
    "    else:\n",
    "        return None\n",
    "\n",
    "    try:\n",
    "        total_words = 0\n",
    "        for key in dictname:\n",
    "            total_words += dictname[key]\n",
    "        output = dictname[x]/total_words+k\n",
    "        return output\n",
    "    except:\n",
    "        k+=1\n",
    "        output = k/total_words+k\n",
    "        return output"
   ]
  },
  {
   "cell_type": "code",
   "execution_count": 22,
   "metadata": {},
   "outputs": [
    {
     "data": {
      "text/plain": [
       "0.00015304560759106213"
      ]
     },
     "execution_count": 22,
     "metadata": {},
     "output_type": "execute_result"
    }
   ],
   "source": [
    "trainemission(\"love\", \"B-positive\")"
   ]
  },
  {
   "cell_type": "code",
   "execution_count": null,
   "metadata": {},
   "outputs": [],
   "source": [
    "# Simple sequence labeklling sequence labelling system that produces the tag\n",
    "\n",
    "def simpleSequenceLabeller(test_y):\n",
    "\n",
    "\n",
    "# better seprator\n",
    "fin = open('train')\n",
    "fout = open('train-out', 'w')  #this just for verification \n",
    "rawframe = []\n",
    "\n",
    "for line in fin:\n",
    "    line = line.strip()\n",
    "    if len(line) == 0: continue\n",
    "    cols = re.split('\\s+(?=\\S+$)',line) # USing the last whitespace as separator\n",
    "    print(\"{!r} -> {!r}\".format(line, cols), file=fout )\n",
    "    rawframe.append(cols)\n",
    "\n",
    "fout.close()\n",
    "\n",
    "myframe = pd.DataFrame(rawframe)\n",
    "print(myframe)\n"
   ]
  },
  {
   "cell_type": "code",
   "execution_count": null,
   "metadata": {},
   "outputs": [],
   "source": [
    "# Design challenge to consider. eg fucking vs fuckin\n",
    "# Should we lowercase "
   ]
  }
 ],
 "metadata": {
  "kernelspec": {
   "display_name": "Python 3",
   "language": "python",
   "name": "python3"
  },
  "language_info": {
   "codemirror_mode": {
    "name": "ipython",
    "version": 3
   },
   "file_extension": ".py",
   "mimetype": "text/x-python",
   "name": "python",
   "nbconvert_exporter": "python",
   "pygments_lexer": "ipython3",
   "version": "3.6.6"
  }
 },
 "nbformat": 4,
 "nbformat_minor": 2
}
