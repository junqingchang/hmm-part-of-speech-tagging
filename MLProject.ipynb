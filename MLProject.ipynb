{
 "cells": [
  {
   "cell_type": "code",
   "execution_count": 1,
   "metadata": {},
   "outputs": [],
   "source": [
    "import re\n",
    "import sys\n",
    "import math"
   ]
  },
  {
   "cell_type": "code",
   "execution_count": 2,
   "metadata": {},
   "outputs": [],
   "source": [
    "running = \"EN\"\n",
    "\n",
    "filetrain = \"{}/train\".format(running)\n",
    "filetest = \"{}/dev.in\".format(running)\n",
    "filep2out = \"{}/dev.p2.out\".format(running)\n",
    "filep3out = \"{}/dev.p3.out\".format(running)"
   ]
  },
  {
   "cell_type": "code",
   "execution_count": 3,
   "metadata": {},
   "outputs": [],
   "source": [
    "def probability_creation(inputfile):\n",
    "    f = open(inputfile,encoding=\"UTF-8\")\n",
    "    e_dict = {}\n",
    "    t_dict = {}\n",
    "    previous_tag = \"START\"\n",
    "    for line in f:\n",
    "        if len(line) == 0: continue\n",
    "        cols = re.split('\\s+(?=\\S+$)',line) #Using the last whitespace as separator\n",
    "        if len(cols) > 1:\n",
    "            tag = cols[1].strip()\n",
    "            word = cols[0].strip()\n",
    "            if tag not in e_dict:\n",
    "                e_dict[tag] = {}\n",
    "            if word not in e_dict[tag]:\n",
    "                e_dict[tag][word] = 1\n",
    "            else:\n",
    "                e_dict[tag][word] += 1\n",
    "                    \n",
    "            if previous_tag not in t_dict:\n",
    "                t_dict[previous_tag] = {}\n",
    "            if tag not in t_dict[previous_tag]:\n",
    "                t_dict[previous_tag][tag] = 1\n",
    "            else:\n",
    "                t_dict[previous_tag][tag] += 1\n",
    "            previous_tag = tag\n",
    "        else:\n",
    "            tag = \"STOP\"\n",
    "            if previous_tag not in t_dict:\n",
    "                t_dict[previous_tag] = {}\n",
    "            if tag not in t_dict[previous_tag]:\n",
    "                t_dict[previous_tag][tag] = 1\n",
    "            else:\n",
    "                t_dict[previous_tag][tag] += 1\n",
    "            previous_tag = \"START\"\n",
    "            \n",
    "    t_count = {}\n",
    "    for key in t_dict:\n",
    "        count = 0\n",
    "        for value in t_dict[key]:\n",
    "            count+= t_dict[key][value]\n",
    "        t_count[key] = count\n",
    "    return t_dict, t_count, e_dict\n",
    "        "
   ]
  },
  {
   "cell_type": "code",
   "execution_count": 4,
   "metadata": {},
   "outputs": [],
   "source": [
    "# Without Unknown\n",
    "def get_emission_probability(x, y, e_dict, t_count):\n",
    "    try:\n",
    "        total_y_words = t_count[y]\n",
    "        total_tag_to_word = e_dict[y][x]\n",
    "        return total_tag_to_word/total_y_words\n",
    "    except:\n",
    "        return 0.0"
   ]
  },
  {
   "cell_type": "code",
   "execution_count": 5,
   "metadata": {},
   "outputs": [],
   "source": [
    "# With Unknown\n",
    "def get_kemission_probability(x, y, e_dict, t_count):\n",
    "    global_counter=0\n",
    "    for key in e_dict:\n",
    "        if x in e_dict[key]:\n",
    "            global_counter+=1\n",
    "    try:\n",
    "        total_y_words = t_count[y]\n",
    "        if global_counter == 0:\n",
    "            calculatedprob = float(1 / (total_y_words + 1))\n",
    "            return calculatedprob\n",
    "        else:\n",
    "            if x in e_dict[y]:\n",
    "                total_tag_to_word = e_dict[y][x]\n",
    "            else:\n",
    "                total_tag_to_word = 0\n",
    "            calculatedprob = float(total_tag_to_word / (total_y_words + 1))\n",
    "            return calculatedprob\n",
    "    except:\n",
    "        calculatedprob = float(1 / (total_y_words + 1))\n",
    "        return 0.0\n",
    "    \n"
   ]
  },
  {
   "cell_type": "code",
   "execution_count": 6,
   "metadata": {},
   "outputs": [],
   "source": [
    "def emission_tag_creation(x, e_dict, t_count):\n",
    "    highest_prob = 0\n",
    "    most_prob = \"\"\n",
    "    for tag in e_dict:\n",
    "        prob = get_kemission_probability(x, tag, e_dict, t_count)\n",
    "        if prob > highest_prob:\n",
    "            highest_prob = prob\n",
    "            most_prob = tag\n",
    "    return most_prob"
   ]
  },
  {
   "cell_type": "code",
   "execution_count": 7,
   "metadata": {},
   "outputs": [],
   "source": [
    "def emission_output(inputfile, outputfile, e_dict, t_count):\n",
    "    f = open(inputfile,encoding=\"UTF-8\")\n",
    "    w = open(outputfile, 'w' ,encoding=\"UTF-8\")\n",
    "    for line in f:\n",
    "        word = line.strip()\n",
    "        if word == \"\":\n",
    "            w.write(\"\\n\")\n",
    "            continue\n",
    "        counter = 0\n",
    "        for tag in e_dict:\n",
    "            if word in e_dict[tag]:\n",
    "                counter += 1\n",
    "        if counter == 0:\n",
    "            word = '#UNK#'\n",
    "        tag = emission_tag_creation(word, e_dict, t_count)\n",
    "        w.write(\"{} {}\\n\".format(word, tag))"
   ]
  },
  {
   "cell_type": "code",
   "execution_count": 8,
   "metadata": {},
   "outputs": [],
   "source": [
    "def get_transition_probability(y1, y2, t_dict, t_count):\n",
    "    try:\n",
    "        count_y1_y2 = t_dict[y1][y2]\n",
    "        count_y1 = t_count[y1] # to be replaced by y1\n",
    "        probability = count_y1_y2 /count_y1\n",
    "        return float(probability)\n",
    "    except:\n",
    "        return 0.0"
   ]
  },
  {
   "cell_type": "code",
   "execution_count": 9,
   "metadata": {},
   "outputs": [],
   "source": [
    "# Viterbi\n",
    "def viterbi(sentence, e_dict, t_dict, t_count):\n",
    "    tag_track = []\n",
    "    for tag in t_dict:\n",
    "        tag_track.append(tag)\n",
    "    tag_track.remove(\"START\")\n",
    "    prob_table = {}\n",
    "    for i in range(len(sentence)+1):\n",
    "        # row column downwards, key is {i : probabilties}\n",
    "        row = {}\n",
    "        for j in range(len(tag_track)):\n",
    "            #First word in the sentence\n",
    "            if i == 0:\n",
    "                ij_transition = get_transition_probability(\"START\",tag_track[j], t_dict,t_count)\n",
    "                ij_emission = get_kemission_probability(sentence[i],tag_track[j], e_dict, t_count)\n",
    "                ij_value = ij_transition*ij_emission\n",
    "                ##Fix for finding probability \n",
    "                if ij_value != 0:\n",
    "                    ij_value = -1*math.log(ij_value)\n",
    "                row[j] = (ij_value, \"START\")\n",
    "            #End Of the Sentence\n",
    "            elif i == len(sentence):\n",
    "                ij_prev = prob_table[i-1][j][0] # take the 0th element in the tuple\n",
    "                if ij_prev == 0:\n",
    "                    row[j] = (0,j)\n",
    "                    continue\n",
    "                ij_transition = get_transition_probability(tag_track[j], \"STOP\", t_dict, t_count)\n",
    "                ##Fix for finding probability\n",
    "                if ij_transition != 0:\n",
    "                    ij_value = -1*math.log(ij_transition)*ij_prev\n",
    "                else:\n",
    "                    ij_value=0\n",
    "                row[j] = (ij_value,j)\n",
    "            else:\n",
    "                largest_value = sys.maxsize\n",
    "                largest_index = 0\n",
    "                for k in range(len(tag_track)):\n",
    "                    kj_prev = prob_table[i-1][k][0]\n",
    "                    if kj_prev == 0:\n",
    "                        continue\n",
    "                    kj_transition = get_transition_probability(tag_track[k],tag_track[j],t_dict,t_count)\n",
    "                    kj_emission = get_kemission_probability(sentence[i],tag_track[j],e_dict, t_count)\n",
    "                    kj_value = kj_transition * kj_emission\n",
    "                    if kj_value != 0:\n",
    "                        kj_value = -1*math.log(kj_value)*kj_prev\n",
    "                    if kj_value < largest_value and kj_value != 0:\n",
    "                        largest_value = kj_value\n",
    "                        largest_index = k\n",
    "                row[j] = (largest_value,largest_index)\n",
    "        prob_table[i] = row\n",
    "    sequence = []\n",
    "    highest_prob = sys.maxsize\n",
    "    previous_tag = 0\n",
    "    for i in range(len(tag_track)):\n",
    "        compare_prob = prob_table[len(sentence)][i][0]\n",
    "        if compare_prob < highest_prob and compare_prob != 0:\n",
    "            highest_prob = compare_prob\n",
    "            previous_tag = prob_table[len(sentence)][i][1]\n",
    "    for i in range(len(prob_table)-1):\n",
    "        sequence.append(tag_track[previous_tag])\n",
    "        previous_tag = prob_table[len(prob_table)-i-2][previous_tag][1]\n",
    "    sequence.reverse()\n",
    "    \n",
    "    return sequence"
   ]
  },
  {
   "cell_type": "code",
   "execution_count": 10,
   "metadata": {},
   "outputs": [],
   "source": [
    "def viterbi_on_input(inputfile, outputfile, e_dict, t_dict, t_count):\n",
    "    f = open(inputfile, encoding=\"UTF-8\")\n",
    "    w = open(outputfile, 'w' ,encoding=\"UTF-8\")\n",
    "    sentence = []\n",
    "    for line in f:\n",
    "        word = line.strip()\n",
    "        if word == \"\":\n",
    "            tags = viterbi(sentence, e_dict, t_dict, t_count)\n",
    "            for i in range(len(sentence)):\n",
    "                w.write('{} {}\\n'.format(sentence[i], tags[i]))\n",
    "            w.write(\"\\n\")\n",
    "            sentence = []\n",
    "            continue\n",
    "        counter = 0\n",
    "        for tag in e_dict:\n",
    "            if word in e_dict[tag]:\n",
    "                counter += 1\n",
    "        if counter == 0:\n",
    "            word = '#UNK#'\n",
    "        sentence.append(word)\n",
    "        "
   ]
  },
  {
   "cell_type": "code",
   "execution_count": 11,
   "metadata": {},
   "outputs": [],
   "source": [
    "t_dict, t_count, e_dict = probability_creation(filetrain)"
   ]
  },
  {
   "cell_type": "code",
   "execution_count": 12,
   "metadata": {},
   "outputs": [],
   "source": [
    "emission_output(filetest, filep2out, e_dict, t_count)"
   ]
  },
  {
   "cell_type": "code",
   "execution_count": 13,
   "metadata": {},
   "outputs": [],
   "source": [
    "viterbi_on_input(filetest, filep3out, e_dict, t_dict, t_count)"
   ]
  },
  {
   "cell_type": "code",
   "execution_count": null,
   "metadata": {},
   "outputs": [],
   "source": []
  }
 ],
 "metadata": {
  "kernelspec": {
   "display_name": "Python 3",
   "language": "python",
   "name": "python3"
  },
  "language_info": {
   "codemirror_mode": {
    "name": "ipython",
    "version": 3
   },
   "file_extension": ".py",
   "mimetype": "text/x-python",
   "name": "python",
   "nbconvert_exporter": "python",
   "pygments_lexer": "ipython3",
   "version": "3.6.6"
  }
 },
 "nbformat": 4,
 "nbformat_minor": 2
}
